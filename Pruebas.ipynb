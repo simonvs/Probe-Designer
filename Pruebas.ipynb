{
 "cells": [
  {
   "cell_type": "markdown",
   "id": "0b467e99",
   "metadata": {},
   "source": [
    "Descarga de archivo anotado de transcrito"
   ]
  },
  {
   "cell_type": "code",
   "execution_count": 1,
   "id": "7cdd1fb0",
   "metadata": {},
   "outputs": [
    {
     "name": "stdout",
     "output_type": "stream",
     "text": [
      "Python 3.10.6\n"
     ]
    }
   ],
   "source": [
    "!python --version"
   ]
  },
  {
   "cell_type": "code",
   "execution_count": 2,
   "id": "4dc5465b",
   "metadata": {},
   "outputs": [],
   "source": [
    "from Bio.Seq import Seq\n",
    "from Bio import Entrez, SeqIO, SeqUtils\n",
    "from Bio.SeqUtils import gc_fraction, MeltingTemp, molecular_weight\n",
    "from Bio.Emboss.Primer3 import Primers"
   ]
  },
  {
   "cell_type": "code",
   "execution_count": 3,
   "id": "c3f1e8c7",
   "metadata": {},
   "outputs": [
    {
     "name": "stderr",
     "output_type": "stream",
     "text": [
      "C:\\laragon\\bin\\python\\python-3.10\\lib\\site-packages\\Bio\\Entrez\\__init__.py:694: UserWarning: \n",
      "            Email address is not specified.\n",
      "\n",
      "            To make use of NCBI's E-utilities, NCBI requires you to specify your\n",
      "            email address with each request.  As an example, if your email address\n",
      "            is A.N.Other@example.com, you can specify it as follows:\n",
      "               from Bio import Entrez\n",
      "               Entrez.email = 'A.N.Other@example.com'\n",
      "            In case of excessive usage of the E-utilities, NCBI will attempt to contact\n",
      "            a user at the email address provided before blocking access to the\n",
      "            E-utilities.\n",
      "  warnings.warn(\n"
     ]
    },
    {
     "data": {
      "text/plain": [
       "Seq('GCACTGCAGCGCCAGCGTCCGAGCGGGCGGCCGAGCTCCCGGAGCGGCCTGGCC...CAA')"
      ]
     },
     "execution_count": 3,
     "metadata": {},
     "output_type": "execute_result"
    }
   ],
   "source": [
    "Entrez.mail = \"watope1690@jthoven.com\"\n",
    "handle = Entrez.efetch(db=\"nucleotide\", id=\"NM_001009944.3\", rettype=\"gb\", retmode=\"text\")\n",
    "record = SeqIO.read(handle, \"genbank\")\n",
    "handle.close()\n",
    "record.seq"
   ]
  },
  {
   "cell_type": "code",
   "execution_count": 4,
   "id": "bcbd5235",
   "metadata": {},
   "outputs": [
    {
     "name": "stdout",
     "output_type": "stream",
     "text": [
      "type: exon\n",
      "location: [0:424](+)\n",
      "qualifiers:\n",
      "    Key: gene, Value: ['PKD1']\n",
      "    Key: gene_synonym, Value: ['PBP; Pc-1; PC1; TRPP1']\n",
      "    Key: inference, Value: ['alignment:Splign:2.1.0']\n",
      "\n",
      "type: exon\n",
      "location: [424:496](+)\n",
      "qualifiers:\n",
      "    Key: gene, Value: ['PKD1']\n",
      "    Key: gene_synonym, Value: ['PBP; Pc-1; PC1; TRPP1']\n",
      "    Key: inference, Value: ['alignment:Splign:2.1.0']\n",
      "\n",
      "type: exon\n",
      "location: [496:568](+)\n",
      "qualifiers:\n",
      "    Key: gene, Value: ['PKD1']\n",
      "    Key: gene_synonym, Value: ['PBP; Pc-1; PC1; TRPP1']\n",
      "    Key: inference, Value: ['alignment:Splign:2.1.0']\n",
      "\n",
      "type: exon\n",
      "location: [568:738](+)\n",
      "qualifiers:\n",
      "    Key: gene, Value: ['PKD1']\n",
      "    Key: gene_synonym, Value: ['PBP; Pc-1; PC1; TRPP1']\n",
      "    Key: inference, Value: ['alignment:Splign:2.1.0']\n",
      "\n",
      "type: exon\n",
      "location: [738:1410](+)\n",
      "qualifiers:\n",
      "    Key: gene, Value: ['PKD1']\n",
      "    Key: gene_synonym, Value: ['PBP; Pc-1; PC1; TRPP1']\n",
      "    Key: inference, Value: ['alignment:Splign:2.1.0']\n",
      "\n",
      "type: exon\n",
      "location: [1410:1594](+)\n",
      "qualifiers:\n",
      "    Key: gene, Value: ['PKD1']\n",
      "    Key: gene_synonym, Value: ['PBP; Pc-1; PC1; TRPP1']\n",
      "    Key: inference, Value: ['alignment:Splign:2.1.0']\n",
      "\n",
      "type: exon\n",
      "location: [1594:1815](+)\n",
      "qualifiers:\n",
      "    Key: gene, Value: ['PKD1']\n",
      "    Key: gene_synonym, Value: ['PBP; Pc-1; PC1; TRPP1']\n",
      "    Key: inference, Value: ['alignment:Splign:2.1.0']\n",
      "\n",
      "type: exon\n",
      "location: [1815:1931](+)\n",
      "qualifiers:\n",
      "    Key: gene, Value: ['PKD1']\n",
      "    Key: gene_synonym, Value: ['PBP; Pc-1; PC1; TRPP1']\n",
      "    Key: inference, Value: ['alignment:Splign:2.1.0']\n",
      "\n",
      "type: exon\n",
      "location: [1931:2058](+)\n",
      "qualifiers:\n",
      "    Key: gene, Value: ['PKD1']\n",
      "    Key: gene_synonym, Value: ['PBP; Pc-1; PC1; TRPP1']\n",
      "    Key: inference, Value: ['alignment:Splign:2.1.0']\n",
      "\n",
      "type: exon\n",
      "location: [2058:2306](+)\n",
      "qualifiers:\n",
      "    Key: gene, Value: ['PKD1']\n",
      "    Key: gene_synonym, Value: ['PBP; Pc-1; PC1; TRPP1']\n",
      "    Key: inference, Value: ['alignment:Splign:2.1.0']\n",
      "\n",
      "type: exon\n",
      "location: [2306:3062](+)\n",
      "qualifiers:\n",
      "    Key: gene, Value: ['PKD1']\n",
      "    Key: gene_synonym, Value: ['PBP; Pc-1; PC1; TRPP1']\n",
      "    Key: inference, Value: ['alignment:Splign:2.1.0']\n",
      "\n",
      "type: exon\n",
      "location: [3062:3194](+)\n",
      "qualifiers:\n",
      "    Key: gene, Value: ['PKD1']\n",
      "    Key: gene_synonym, Value: ['PBP; Pc-1; PC1; TRPP1']\n",
      "    Key: inference, Value: ['alignment:Splign:2.1.0']\n",
      "\n",
      "type: exon\n",
      "location: [3194:3370](+)\n",
      "qualifiers:\n",
      "    Key: gene, Value: ['PKD1']\n",
      "    Key: gene_synonym, Value: ['PBP; Pc-1; PC1; TRPP1']\n",
      "    Key: inference, Value: ['alignment:Splign:2.1.0']\n",
      "\n",
      "type: exon\n",
      "location: [3370:3504](+)\n",
      "qualifiers:\n",
      "    Key: gene, Value: ['PKD1']\n",
      "    Key: gene_synonym, Value: ['PBP; Pc-1; PC1; TRPP1']\n",
      "    Key: inference, Value: ['alignment:Splign:2.1.0']\n",
      "\n",
      "type: exon\n",
      "location: [3504:7124](+)\n",
      "qualifiers:\n",
      "    Key: gene, Value: ['PKD1']\n",
      "    Key: gene_synonym, Value: ['PBP; Pc-1; PC1; TRPP1']\n",
      "    Key: inference, Value: ['alignment:Splign:2.1.0']\n",
      "\n",
      "type: exon\n",
      "location: [7124:7274](+)\n",
      "qualifiers:\n",
      "    Key: gene, Value: ['PKD1']\n",
      "    Key: gene_synonym, Value: ['PBP; Pc-1; PC1; TRPP1']\n",
      "    Key: inference, Value: ['alignment:Splign:2.1.0']\n",
      "\n",
      "type: exon\n",
      "location: [7274:7418](+)\n",
      "qualifiers:\n",
      "    Key: gene, Value: ['PKD1']\n",
      "    Key: gene_synonym, Value: ['PBP; Pc-1; PC1; TRPP1']\n",
      "    Key: inference, Value: ['alignment:Splign:2.1.0']\n",
      "\n",
      "type: exon\n",
      "location: [7418:7698](+)\n",
      "qualifiers:\n",
      "    Key: gene, Value: ['PKD1']\n",
      "    Key: gene_synonym, Value: ['PBP; Pc-1; PC1; TRPP1']\n",
      "    Key: inference, Value: ['alignment:Splign:2.1.0']\n",
      "\n",
      "type: exon\n",
      "location: [7698:7912](+)\n",
      "qualifiers:\n",
      "    Key: gene, Value: ['PKD1']\n",
      "    Key: gene_synonym, Value: ['PBP; Pc-1; PC1; TRPP1']\n",
      "    Key: inference, Value: ['alignment:Splign:2.1.0']\n",
      "\n",
      "type: exon\n",
      "location: [7912:8072](+)\n",
      "qualifiers:\n",
      "    Key: gene, Value: ['PKD1']\n",
      "    Key: gene_synonym, Value: ['PBP; Pc-1; PC1; TRPP1']\n",
      "    Key: inference, Value: ['alignment:Splign:2.1.0']\n",
      "\n",
      "type: exon\n",
      "location: [8072:8225](+)\n",
      "qualifiers:\n",
      "    Key: gene, Value: ['PKD1']\n",
      "    Key: gene_synonym, Value: ['PBP; Pc-1; PC1; TRPP1']\n",
      "    Key: inference, Value: ['alignment:Splign:2.1.0']\n",
      "\n",
      "type: exon\n",
      "location: [8225:8370](+)\n",
      "qualifiers:\n",
      "    Key: gene, Value: ['PKD1']\n",
      "    Key: gene_synonym, Value: ['PBP; Pc-1; PC1; TRPP1']\n",
      "    Key: inference, Value: ['alignment:Splign:2.1.0']\n",
      "\n",
      "type: exon\n",
      "location: [8370:9000](+)\n",
      "qualifiers:\n",
      "    Key: gene, Value: ['PKD1']\n",
      "    Key: gene_synonym, Value: ['PBP; Pc-1; PC1; TRPP1']\n",
      "    Key: inference, Value: ['alignment:Splign:2.1.0']\n",
      "\n",
      "type: exon\n",
      "location: [9000:9157](+)\n",
      "qualifiers:\n",
      "    Key: gene, Value: ['PKD1']\n",
      "    Key: gene_synonym, Value: ['PBP; Pc-1; PC1; TRPP1']\n",
      "    Key: inference, Value: ['alignment:Splign:2.1.0']\n",
      "\n",
      "type: exon\n",
      "location: [9157:9410](+)\n",
      "qualifiers:\n",
      "    Key: gene, Value: ['PKD1']\n",
      "    Key: gene_synonym, Value: ['PBP; Pc-1; PC1; TRPP1']\n",
      "    Key: inference, Value: ['alignment:Splign:2.1.0']\n",
      "\n",
      "type: exon\n",
      "location: [9410:9606](+)\n",
      "qualifiers:\n",
      "    Key: gene, Value: ['PKD1']\n",
      "    Key: gene_synonym, Value: ['PBP; Pc-1; PC1; TRPP1']\n",
      "    Key: inference, Value: ['alignment:Splign:2.1.0']\n",
      "\n",
      "type: exon\n",
      "location: [9606:9777](+)\n",
      "qualifiers:\n",
      "    Key: gene, Value: ['PKD1']\n",
      "    Key: gene_synonym, Value: ['PBP; Pc-1; PC1; TRPP1']\n",
      "    Key: inference, Value: ['alignment:Splign:2.1.0']\n",
      "\n",
      "type: exon\n",
      "location: [9777:9921](+)\n",
      "qualifiers:\n",
      "    Key: gene, Value: ['PKD1']\n",
      "    Key: gene_synonym, Value: ['PBP; Pc-1; PC1; TRPP1']\n",
      "    Key: inference, Value: ['alignment:Splign:2.1.0']\n",
      "\n",
      "type: exon\n",
      "location: [9921:10132](+)\n",
      "qualifiers:\n",
      "    Key: gene, Value: ['PKD1']\n",
      "    Key: gene_synonym, Value: ['PBP; Pc-1; PC1; TRPP1']\n",
      "    Key: inference, Value: ['alignment:Splign:2.1.0']\n",
      "\n",
      "type: exon\n",
      "location: [10132:10259](+)\n",
      "qualifiers:\n",
      "    Key: gene, Value: ['PKD1']\n",
      "    Key: gene_synonym, Value: ['PBP; Pc-1; PC1; TRPP1']\n",
      "    Key: inference, Value: ['alignment:Splign:2.1.0']\n",
      "\n",
      "type: exon\n",
      "location: [10259:10376](+)\n",
      "qualifiers:\n",
      "    Key: gene, Value: ['PKD1']\n",
      "    Key: gene_synonym, Value: ['PBP; Pc-1; PC1; TRPP1']\n",
      "    Key: inference, Value: ['alignment:Splign:2.1.0']\n",
      "\n",
      "type: exon\n",
      "location: [10376:10429](+)\n",
      "qualifiers:\n",
      "    Key: gene, Value: ['PKD1']\n",
      "    Key: gene_synonym, Value: ['PBP; Pc-1; PC1; TRPP1']\n",
      "    Key: inference, Value: ['alignment:Splign:2.1.0']\n",
      "\n",
      "type: exon\n",
      "location: [10429:10614](+)\n",
      "qualifiers:\n",
      "    Key: gene, Value: ['PKD1']\n",
      "    Key: gene_synonym, Value: ['PBP; Pc-1; PC1; TRPP1']\n",
      "    Key: inference, Value: ['alignment:Splign:2.1.0']\n",
      "\n",
      "type: exon\n",
      "location: [10614:10708](+)\n",
      "qualifiers:\n",
      "    Key: gene, Value: ['PKD1']\n",
      "    Key: gene_synonym, Value: ['PBP; Pc-1; PC1; TRPP1']\n",
      "    Key: inference, Value: ['alignment:Splign:2.1.0']\n",
      "\n",
      "type: exon\n",
      "location: [10708:10827](+)\n",
      "qualifiers:\n",
      "    Key: gene, Value: ['PKD1']\n",
      "    Key: gene_synonym, Value: ['PBP; Pc-1; PC1; TRPP1']\n",
      "    Key: inference, Value: ['alignment:Splign:2.1.0']\n",
      "\n",
      "type: exon\n",
      "location: [10827:11030](+)\n",
      "qualifiers:\n",
      "    Key: gene, Value: ['PKD1']\n",
      "    Key: gene_synonym, Value: ['PBP; Pc-1; PC1; TRPP1']\n",
      "    Key: inference, Value: ['alignment:Splign:2.1.0']\n",
      "\n",
      "type: exon\n",
      "location: [11030:11225](+)\n",
      "qualifiers:\n",
      "    Key: gene, Value: ['PKD1']\n",
      "    Key: gene_synonym, Value: ['PBP; Pc-1; PC1; TRPP1']\n",
      "    Key: inference, Value: ['alignment:Splign:2.1.0']\n",
      "\n",
      "type: exon\n",
      "location: [11225:11365](+)\n",
      "qualifiers:\n",
      "    Key: gene, Value: ['PKD1']\n",
      "    Key: gene_synonym, Value: ['PBP; Pc-1; PC1; TRPP1']\n",
      "    Key: inference, Value: ['alignment:Splign:2.1.0']\n",
      "\n",
      "type: exon\n",
      "location: [11365:11478](+)\n",
      "qualifiers:\n",
      "    Key: gene, Value: ['PKD1']\n",
      "    Key: gene_synonym, Value: ['PBP; Pc-1; PC1; TRPP1']\n",
      "    Key: inference, Value: ['alignment:Splign:2.1.0']\n",
      "\n",
      "type: exon\n",
      "location: [11478:11620](+)\n",
      "qualifiers:\n",
      "    Key: gene, Value: ['PKD1']\n",
      "    Key: gene_synonym, Value: ['PBP; Pc-1; PC1; TRPP1']\n",
      "    Key: inference, Value: ['alignment:Splign:2.1.0']\n",
      "\n",
      "type: exon\n",
      "location: [11620:11746](+)\n",
      "qualifiers:\n",
      "    Key: gene, Value: ['PKD1']\n",
      "    Key: gene_synonym, Value: ['PBP; Pc-1; PC1; TRPP1']\n",
      "    Key: inference, Value: ['alignment:Splign:2.1.0']\n",
      "\n",
      "type: exon\n",
      "location: [11746:11921](+)\n",
      "qualifiers:\n",
      "    Key: gene, Value: ['PKD1']\n",
      "    Key: gene_synonym, Value: ['PBP; Pc-1; PC1; TRPP1']\n",
      "    Key: inference, Value: ['alignment:Splign:2.1.0']\n",
      "\n",
      "type: exon\n",
      "location: [11921:12212](+)\n",
      "qualifiers:\n",
      "    Key: gene, Value: ['PKD1']\n",
      "    Key: gene_synonym, Value: ['PBP; Pc-1; PC1; TRPP1']\n",
      "    Key: inference, Value: ['alignment:Splign:2.1.0']\n",
      "\n",
      "type: exon\n",
      "location: [12212:12347](+)\n",
      "qualifiers:\n",
      "    Key: gene, Value: ['PKD1']\n",
      "    Key: gene_synonym, Value: ['PBP; Pc-1; PC1; TRPP1']\n",
      "    Key: inference, Value: ['alignment:Splign:2.1.0']\n",
      "\n",
      "type: exon\n",
      "location: [12347:12653](+)\n",
      "qualifiers:\n",
      "    Key: gene, Value: ['PKD1']\n",
      "    Key: gene_synonym, Value: ['PBP; Pc-1; PC1; TRPP1']\n",
      "    Key: inference, Value: ['alignment:Splign:2.1.0']\n",
      "\n",
      "type: exon\n",
      "location: [12653:14140](+)\n",
      "qualifiers:\n",
      "    Key: gene, Value: ['PKD1']\n",
      "    Key: gene_synonym, Value: ['PBP; Pc-1; PC1; TRPP1']\n",
      "    Key: inference, Value: ['alignment:Splign:2.1.0']\n",
      "\n"
     ]
    }
   ],
   "source": [
    "for f in record.features:\n",
    "    if f.type == 'exon':\n",
    "        print(f)"
   ]
  },
  {
   "cell_type": "code",
   "execution_count": 5,
   "id": "b0629cc7",
   "metadata": {},
   "outputs": [
    {
     "name": "stdout",
     "output_type": "stream",
     "text": [
      "GCACTGCAGCGCCAGCGTCCGAGCGGGCGGCCGAGCTCCCGGAGCGGCCTGGCCCCGAGCCCCGAGCGGGCGTCGCTCAGCAGCAGGTCGCGGCCGCAGCCCCATCCAGCCCCGCGCCCGCCATGCCGTCCGCGGGCCCCGCCTGAGCTGCGGCCTCCGCGCGCGGGCGGGCCTGGGGACGGCGGGGCCATGCGCGCGCTGCCCTAACGATGCCGCCCGCCGCGCCCGCCCGCCTGGCGCTGGCCCTGGGCCTGGGCCTGTGGCTCGGGGCGCTGGCGGGGGGCCCCGGGCGCGGCTGCGGGCCCTGCGAGCCCCCCTGCCTCTGCGGCCCAGCGCCCGGCGCCGCCTGCCGCGTCAACTGCTCGGGCCGCGGGCTGCGGACGCTCGGTCCCGCGCTGCGCATCCCCGCGGACGCCACAGCGCT\n",
      "Largo:  424\n",
      "AGACGTCTCCCACAACCTGCTCCGGGCGCTGGACGTTGGGCTCCTGGCGAACCTCTCGGCGCTGGCAGAGCT\n",
      "Largo:  72\n",
      "GGATATAAGCAACAACAAGATTTCTACGTTAGAAGAAGGAATATTTGCTAATTTATTTAATTTAAGTGAAAT\n",
      "Largo:  72\n",
      "AAACCTGAGTGGGAACCCGTTTGAGTGTGACTGTGGCCTGGCGTGGCTGCCGCGATGGGCGGAGGAGCAGCAGGTGCGGGTGGTGCAGCCCGAGGCAGCCACGTGTGCTGGGCCTGGCTCCCTGGCTGGCCAGCCTCTGCTTGGCATCCCCTTGCTGGACAGTGGCTGTG\n",
      "Largo:  170\n",
      "GTGAGGAGTATGTCGCCTGCCTCCCTGACAACAGCTCAGGCACCGTGGCAGCAGTGTCCTTTTCAGCTGCCCACGAAGGCCTGCTTCAGCCAGAGGCCTGCAGCGCCTTCTGCTTCTCCACCGGCCAGGGCCTCGCAGCCCTCTCGGAGCAGGGCTGGTGCCTGTGTGGGGCGGCCCAGCCCTCCAGTGCCTCCTTTGCCTGCCTGTCCCTCTGCTCCGGCCCCCCGCCACCTCCTGCCCCCACCTGTAGGGGCCCCACCCTCCTCCAGCACGTCTTCCCTGCCTCCCCAGGGGCCACCCTGGTGGGGCCCCACGGACCTCTGGCCTCTGGCCAGCTAGCAGCCTTCCACATCGCTGCCCCGCTCCCTGTCACTGCCACACGCTGGGACTTCGGAGACGGCTCCGCCGAGGTGGATGCCGCTGGGCCGGCTGCCTCGCATCGCTATGTGCTGCCTGGGCGCTATCACGTGACGGCCGTGCTGGCCCTGGGGGCCGGCTCAGCCCTGCTGGGGACAGACGTGCAGGTGGAAGCGGCACCTGCCGCCCTGGAGCTCGTGTGCCCGTCCTCGGTGCAGAGTGACGAGAGCCTCGACCTCAGCATCCAGAACCGCGGTGGTTCAGGCCTGGAGGCCGCCTACAGCATCGTGGCCCTGGGCGAGGAGCCGGCCCGAG\n",
      "Largo:  672\n",
      "CGGTGCACCCGCTCTGCCCCTCGGACACGGAGATCTTCCCTGGCAACGGGCACTGCTACCGCCTGGTGGTGGAGAAGGCGGCCTGGCTGCAGGCGCAGGAGCAGTGTCAGGCCTGGGCCGGGGCCGCCCTGGCAATGGTGGACAGTCCCGCCGTGCAGCGCTTCCTGGTCTCCCGGGTCACCAG\n",
      "Largo:  184\n",
      "GAGCCTAGACGTGTGGATCGGCTTCTCGACTGTGCAGGGGGTGGAGGTGGGCCCAGCGCCGCAGGGCGAGGCCTTCAGCCTGGAGAGCTGCCAGAACTGGCTGCCCGGGGAGCCACACCCAGCCACAGCCGAGCACTGCGTCCGGCTCGGGCCCACCGGGTGGTGTAACACCGACCTGTGCTCAGCGCCGCACAGCTACGTCTGCGAGCTGCAGCCCGGAG\n",
      "Largo:  221\n",
      "GCCCAGTGCAGGATGCCGAGAACCTCCTCGTGGGAGCGCCCAGTGGGGACCTGCAGGGACCCCTGACGCCTCTGGCACAGCAGGACGGCCTCTCAGCCCCGCACGAGCCCGTGGAG\n",
      "Largo:  116\n",
      "GTCATGGTATTCCCGGGCCTGCGTCTGAGCCGTGAAGCCTTCCTCACCACGGCCGAATTTGGGACCCAGGAGCTCCGGCGGCCCGCCCAGCTGCGGCTGCAGGTGTACCGGCTCCTCAGCACAGCAG\n",
      "Largo:  127\n",
      "GGACCCCGGAGAACGGCAGCGAGCCTGAGAGCAGGTCCCCGGACAACAGGACCCAGCTGGCCCCCGCGTGCATGCCAGGGGGACGCTGGTGCCCTGGAGCCAACATCTGCTTGCCGCTGGACGCCTCCTGCCACCCCCAGGCCTGCGCCAATGGCTGCACGTCAGGGCCAGGGCTACCCGGGGCCCCCTATGCGCTATGGAGAGAGTTCCTCTTCTCCGTTCCCGCGGGGCCCCCCGCGCAGTACTCG\n",
      "Largo:  248\n",
      "GTCACCCTCCACGGCCAGGATGTCCTCATGCTCCCTGGTGACCTCGTTGGCTTGCAGCACGACGCTGGCCCTGGCGCCCTCCTGCACTGCTCGCCGGCTCCCGGCCACCCTGGTCCCCGGGCCCCGTACCTCTCCGCCAACGCCTCGTCATGGCTGCCCCACTTGCCAGCCCAGCTGGAGGGCACTTGGGCCTGCCCTGCCTGTGCCCTGCGGCTGCTTGCAGCCACGGAACAGCTCACCGTGCTGCTGGGCTTGAGGCCCAACCCTGGACTGCGGCTGCCTGGGCGCTATGAGGTCCGGGCAGAGGTGGGCAATGGCGTGTCCAGGCACAACCTCTCCTGCAGCTTTGACGTGGTCTCCCCAGTGGCTGGGCTGCGGGTCATCTACCCTGCCCCCCGCGACGGCCGCCTCTACGTGCCCACCAACGGCTCAGCCTTGGTGCTCCAGGTGGACTCTGGTGCCAACGCCACGGCCACGGCTCGCTGGCCTGGGGGCAGTGTCAGCGCCCGCTTTGAGAATGTCTGCCCTGCCCTGGTGGCCACCTTCGTGCCCGGCTGCCCCTGGGAGACCAACGATACCCTGTTCTCAGTGGTAGCACTGCCGTGGCTCAGTGAGGGGGAGCACGTGGTGGACGTGGTGGTGGAAAACAGCGCCAGCCGGGCCAACCTCAGCCTGCGGGTGACGGCGGAGGAGCCCATCTGTGGCCTCCGCGCCACGCCCAGCCCCGAGGCCCGTGTACTGCAGGGAGTCCTAGTG\n",
      "Largo:  756\n",
      "AGGTACAGCCCCGTGGTGGAGGCCGGCTCGGACATGGTCTTCCGGTGGACCATCAACGACAAGCAGTCCCTGACCTTCCAGAACGTGGTCTTCAATGTCATTTATCAGAGCGCGGCGGTCTTCAAGCTCTCA\n",
      "Largo:  132\n",
      "CTGACGGCCTCCAACCACGTGAGCAACGTCACCGTGAACTACAACGTAACCGTGGAGCGGATGAACAGGATGCAGGGTCTGCAGGTCTCCACAGTGCCGGCCGTGCTGTCCCCCAATGCCACGCTAGCACTGACGGCGGGCGTGCTGGTGGACTCGGCCGTGGAGGTGGCCTTCCT\n",
      "Largo:  176\n",
      "GTGGACCTTTGGGGATGGGGAGCAGGCCCTCCACCAGTTCCAGCCTCCGTACAACGAGTCCTTCCCGGTTCCAGACCCCTCGGTGGCCCAGGTGCTGGTGGAGCACAATGTCATGCACACCTACGCTGCCCCAG\n",
      "Largo:  134\n",
      "GTGAGTACCTCCTGACCGTGCTGGCATCTAATGCCTTCGAGAACCTGACGCAGCAGGTGCCTGTGAGCGTGCGCGCCTCCCTGCCCTCCGTGGCTGTGGGTGTGAGTGACGGCGTCCTGGTGGCCGGCCGGCCCGTCACCTTCTACCCGCACCCGCTGCCCTCGCCTGGGGGTGTTCTTTACACGTGGGACTTCGGGGACGGCTCCCCTGTCCTGACCCAGAGCCAGCCGGCTGCCAACCACACCTATGCCTCGAGGGGCACCTACCACGTGCGCCTGGAGGTCAACAACACGGTGAGCGGTGCGGCGGCCCAGGCGGATGTGCGCGTCTTTGAGGAGCTCCGCGGACTCAGCGTGGACATGAGCCTGGCCGTGGAGCAGGGCGCCCCCGTGGTGGTCAGCGCCGCGGTGCAGACGGGCGACAACATCACGTGGACCTTCGACATGGGGGACGGCACCGTGCTGTCGGGCCCGGAGGCAACAGTGGAGCATGTGTACCTGCGGGCACAGAACTGCACAGTGACCGTGGGTGCGGCCAGCCCCGCCGGCCACCTGGCCCGGAGCCTGCACGTGCTGGTCTTCGTCCTGGAGGTGCTGCGCGTTGAACCCGCCGCCTGCATCCCCACGCAGCCTGACGCGCGGCTCACGGCCTACGTCACCGGGAACCCGGCCCACTACCTCTTCGACTGGACCTTCGGGGATGGCTCCTCCAACACGACCGTGCGGGGGTGCCCGACGGTGACACACAACTTCACGCGGAGCGGCACGTTCCCCCTGGCGCTGGTGCTGTCCAGCCGCGTGAACAGGGCGCATTACTTCACCAGCATCTGCGTGGAGCCAGAGGTGGGCAACGTCACCCTGCAGCCAGAGAGGCAGTTTGTGCAGCTCGGGGACGAGGCCTGGCTGGTGGCATGTGCCTGGCCCCCGTTCCCCTACCGCTACACCTGGGACTTTGGCACCGAGGAAGCCGCCCCCACCCGTGCCAGGGGCCCTGAGGTGACGTTCATCTACCGAGACCCAGGCTCCTATCTTGTGACAGTCACCGCGTCCAACAACATCTCTGCTGCCAATGACTCAGCCCTGGTGGAGGTGCAGGAGCCCGTGCTGGTCACCAGCATCAAGGTCAATGGCTCCCTTGGGCTGGAGCTGCAGCAGCCGTACCTGTTCTCTGCTGTGGGCCGTGGGCGCCCCGCCAGCTACCTGTGGGATCTGGGGGACGGTGGGTGGCTCGAGGGTCCGGAGGTCACCCACGCTTACAACAGCACAGGTGACTTCACCGTTAGGGTGGCCGGCTGGAATGAGGTGAGCCGCAGCGAGGCCTGGCTCAATGTGACGGTGAAGCGGCGCGTGCGGGGGCTCGTCGTCAATGCAAGCCGCACGGTGGTGCCCCTGAATGGGAGCGTGAGCTTCAGCACGTCGCTGGAGGCCGGCAGTGATGTGCGCTATTCCTGGGTGCTCTGTGACCGCTGCACGCCCATCCCTGGGGGTCCTACCATCTCTTACACCTTCCGCTCCGTGGGCACCTTCAATATCATCGTCACGGCTGAGAACGAGGTGGGCTCCGCCCAGGACAGCATCTTCGTCTATGTCCTGCAGCTCATAGAGGGGCTGCAGGTGGTGGGCGGTGGCCGCTACTTCCCCACCAACCACACGGTACAGCTGCAGGCCGTGGTTAGGGATGGCACCAACGTCTCCTACAGCTGGACTGCCTGGAGGGACAGGGGCCCGGCCCTGGCCGGCAGCGGCAAAGGCTTCTCGCTCACCGTGCTCGAGGCCGGCACCTACCATGTGCAGCTGCGGGCCACCAACATGCTGGGCAGCGCCTGGGCCGACTGCACCATGGACTTCGTGGAGCCTGTGGGGTGGCTGATGGTGGCCGCCTCCCCGAACCCAGCTGCCGTCAACACAAGCGTCACCCTCAGTGCCGAGCTGGCTGGTGGCAGTGGTGTCGTATACACTTGGTCCTTGGAGGAGGGGCTGAGCTGGGAGACCTCCGAGCCATTTACCACCCATAGCTTCCCCACACCCGGCCTGCACTTGGTCACCATGACGGCAGGGAACCCGCTGGGCTCAGCCAACGCCACCGTGGAAGTGGATGTGCAGGTGCCTGTGAGTGGCCTCAGCATCAGGGCCAGCGAGCCCGGAGGCAGCTTCGTGGCGGCCGGGTCCTCTGTGCCCTTTTGGGGGCAGCTGGCCACGGGCACCAATGTGAGCTGGTGCTGGGCTGTGCCCGGCGGCAGCAGCAAGCGTGGCCCTCATGTCACCATGGTCTTCCCGGATGCTGGCACCTTCTCCATCCGGCTCAATGCCTCCAACGCAGTCAGCTGGGTCTCAGCCACGTACAACCTCACGGCGGAGGAGCCCATCGTGGGCCTGGTGCTGTGGGCCAGCAGCAAGGTGGTGGCGCCCGGGCAGCTGGTCCATTTTCAGATCCTGCTGGCTGCCGGCTCAGCTGTCACCTTCCGCCTGCAGGTCGGCGGGGCCAACCCCGAGGTGCTCCCCGGGCCCCGTTTCTCCCACAGCTTCCCCCGCGTCGGAGACCACGTGGTGAGCGTGCGGGGCAAAAACCACGTGAGCTGGGCCCAGGCGCAGGTGCGCATCGTGGTGCTGGAGGCCGTGAGTGGGCTGCAGGTGCCCAACTGCTGCGAGCCTGGCATCGCCACGGGCACTGAGAGGAACTTCACAGCCCGCGTGCAGCGCGGCTCTCGGGTCGCCTACGCCTGGTACTTCTCGCTGCAGAAGGTCCAGGGCGACTCGCTGGTCATCCTGTCGGGCCGCGACGTCACCTACACGCCCGTGGCCGCGGGGCTGTTGGAGATCCAGGTGCGCGCCTTCAACGCCCTGGGCAGTGAGAACCGCACGCTGGTGCTGGAGGTTCAGGACGCCGTCCAGTATGTGGCCCTGCAGAGCGGCCCCTGCTTCACCAACCGCTCGGCGCAGTTTGAGGCCGCCACCAGCCCCAGCCCCCGGCGTGTGGCCTACCACTGGGACTTTGGGGATGGGTCGCCAGGGCAGGACACAGATGAGCCCAGGGCCGAGCACTCCTACCTGAGGCCTGGGGACTACCGCGTGCAGGTGAACGCCTCCAACCTGGTGAGCTTCTTCGTGGCGCAGGCCACGGTGACCGTCCAGGTGCTGGCCTGCCGGGAGCCGGAGGTGGACGTGGTCCTGCCCCTGCAGGTGCTGATGCGGCGATCACAGCGCAACTACTTGGAGGCCCACGTTGACCTGCGCGACTGCGTCACCTACCAGACTGAGTACCGCTGGGAGGTGTATCGCACCGCCAGCTGCCAGCGGCCGGGGCGCCCAGCGCGTGTGGCCCTGCCCGGCGTGGACGTGAGCCGGCCTCGGCTGGTGCTGCCGCGGCTGGCGCTGCCTGTGGGGCACTACTGCTTTGTGTTTGTCGTGTCATTTGGGGACACGCCACTGACACAGAGCATCCAGGCCAATGTGACGGTGGCCCCCGAGCGCCTGGTGCCCATCATTGAGGGTGGCTCATACCGCGTGTGGTCAGACACACGGGACCTGGTGCTGGATGGGAGCGAGTCCTACGACCCCAACCTGGAGGACGGCGACCAGACGCCGCTCAGTTTCCACTGGGCCTGTGTGGCTTCGACACAG\n",
      "Largo:  3620\n",
      "AGGGAGGCTGGCGGGTGTGCGCTGAACTTTGGGCCCCGCGGGAGCAGCACGGTCACCATTCCACGGGAGCGGCTGGCGGCTGGCGTGGAGTACACCTTCAGCCTGACCGTGTGGAAGGCCGGCCGCAAGGAGGAGGCCACCAACCAGACG\n",
      "Largo:  150\n",
      "GTGCTGATCCGGAGTGGCCGGGTGCCCATTGTGTCCTTGGAGTGTGTGTCCTGCAAGGCACAGGCCGTGTACGAAGTGAGCCGCAGCTCCTACGTGTACTTGGAGGGCCGCTGCCTCAATTGCAGCAGCGGCTCCAAGCGAGGG\n",
      "Largo:  144\n",
      "CGGTGGGCTGCACGTACGTTCAGCAACAAGACGCTGGTGCTGGATGAGACCACCACATCCACGGGCAGTGCAGGCATGCGACTGGTGCTGCGGCGGGGCGTGCTGCGGGACGGCGAGGGATACACCTTCACGCTCACGGTGCTGGGCCGCTCTGGCGAGGAGGAGGGCTGCGCCTCCATCCGCCTGTCCCCCAACCGCCCGCCGCTGGGGGGCTCTTGCCGCCTCTTCCCACTGGGCGCTGTGCACGCCCTCACCACCAAGGTGCACTTCGAATGCACGG\n",
      "Largo:  280\n",
      "GCTGGCATGACGCGGAGGATGCTGGCGCCCCGCTGGTGTACGCCCTGCTGCTGCGGCGCTGTCGCCAGGGCCACTGCGAGGAGTTCTGTGTCTACAAGGGCAGCCTCTCCAGCTACGGAGCCGTGCTGCCCCCGGGTTTCAGGCCACACTTCGAGGTGGGCCTGGCCGTGGTGGTGCAGGACCAGCTGGGAGCCGCTGTGGTCGCCCTCAACAG\n",
      "Largo:  214\n",
      "GTCTTTGGCCATCACCCTCCCAGAGCCCAACGGCAGCGCAACGGGGCTCACAGTCTGGCTGCACGGGCTCACCGCTAGTGTGCTCCCAGGGCTGCTGCGGCAGGCCGATCCCCAGCACGTCATCGAGTACTCGTTGGCCCTGGTCACCGTGCTGAACGAG\n",
      "Largo:  160\n",
      "TACGAGCGGGCCCTGGACGTGGCGGCAGAGCCCAAGCACGAGCGGCAGCACCGAGCCCAGATACGCAAGAACATCACGGAGACTCTGGTGTCCCTGAGGGTCCACACTGTGGATGACATCCAGCAGATCGCTGCTGCGCTGGCCCAGTGCATG\n",
      "Largo:  153\n",
      "GGGCCCAGCAGGGAGCTCGTATGCCGCTCGTGCCTGAAGCAGACGCTGCACAAGCTGGAGGCCATGATGCTCATCCTGCAGGCAGAGACCACCGCGGGCACCGTGACGCCCACCGCCATCGGAGACAGCATCCTCAACATCACAG\n",
      "Largo:  145\n",
      "GAGACCTCATCCACCTGGCCAGCTCGGACGTGCGGGCACCACAGCCCTCAGAGCTGGGAGCCGAGTCACCATCTCGGATGGTGGCGTCCCAGGCCTACAACCTGACCTCTGCCCTCATGCGCATCCTCATGCGCTCCCGCGTGCTCAACGAGGAGCCCCTGACGCTGGCGGGCGAGGAGATCGTGGCCCAGGGCAAGCGCTCGGACCCGCGGAGCCTGCTGTGCTATGGCGGCGCCCCAGGGCCTGGCTGCCACTTCTCCATCCCCGAGGCTTTCAGCGGGGCCCTGGCCAACCTCAGTGACGTGGTGCAGCTCATCTTTCTGGTGGACTCCAATCCCTTTCCCTTTGGCTATATCAGCAACTACACCGTCTCCACCAAGGTGGCCTCGATGGCATTCCAGACACAGGCCGGCGCCCAGATCCCCATCGAGCGGCTGGCCTCAGAGCGCGCCATCACCGTGAAGGTGCCCAACAACTCGGACTGGGCTGCCCGGGGCCACCGCAGCTCCGCCAACTCCGCCAACTCCGTTGTGGTCCAGCCCCAGGCCTCCGTCGGTGCTGTGGTCACCCTGGACAGCAGCAACCCTGCGGCCGGGCTGCATCTGCAGCTCAACTATACGCTGCTGGACG\n",
      "Largo:  630\n",
      "GCCACTACCTGTCTGAGGAACCTGAGCCCTACCTGGCAGTCTACCTACACTCGGAGCCCCGGCCCAATGAGCACAACTGCTCGGCTAGCAGGAGGATCCGCCCAGAGTCACTCCAGGGTGCTGACCACCGGCCCTACACCTTCTTCATTTCCCCGGG\n",
      "Largo:  157\n",
      "GAGCAGAGACCCAGCGGGGAGTTACCATCTGAACCTCTCCAGCCACTTCCGCTGGTCGGCGCTGCAGGTGTCCGTGGGCCTGTACACGTCCCTGTGCCAGTACTTCAGCGAGGAGGACATGGTGTGGCGGACAGAGGGGCTGCTGCCCCTGGAGGAGACCTCGCCCCGCCAGGCCGTCTGCCTCACCCGCCACCTCACCGCCTTCGGCGCCAGCCTCTTCGTGCCCCCAAGCCATGTCCGCTTTGTGTTTCCT\n",
      "Largo:  253\n",
      "GAGCCGACAGCGGATGTAAACTACATCGTCATGCTGACATGTGCTGTGTGCCTGGTGACCTACATGGTCATGGCCGCCATCCTGCACAAGCTGGACCAGTTGGATGCCAGCCGGGGCCGCGCCATCCCTTTCTGTGGGCAGCGGGGCCGCTTCAAGTACGAGATCCTCGTCAAGACAGGCTGGGGCCGGGGCTCAG\n",
      "Largo:  196\n",
      "GTACCACGGCCCACGTGGGCATCATGCTGTATGGGGTGGACAGCCGGAGCGGCCACCGGCACCTGGACGGCGACAGAGCCTTCCACCGCAACAGCCTGGACATCTTCCGGATCGCCACCCCGCACAGCCTGGGTAGCGTGTGGAAGATCCGAGTGTGGCACGACAACAAAG\n",
      "Largo:  171\n",
      "GGCTCAGCCCTGCCTGGTTCCTGCAGCACGTCATCGTCAGGGACCTGCAGACGGCACGCAGCGCCTTCTTCCTGGTCAATGACTGGCTTTCGGTGGAGACGGAGGCCAACGGGGGCCTGGTGGAGAAGGAGGTGCTGGCCGCGA\n",
      "Largo:  144\n",
      "GCGACGCAGCCCTTTTGCGCTTCCGGCGCCTGCTGGTGGCTGAGCTGCAGCGTGGCTTCTTTGACAAGCACATCTGGCTCTCCATATGGGACCGGCCGCCTCGTAGCCGTTTCACTCGCATCCAGAGGGCCACCTGCTGCGTTCTCCTCATCTGCCTCTTCCTGGGCGCCAACGCCGTGTGGTACGGGGCTGTTGGCGACTCTGCCTACAG\n",
      "Largo:  211\n",
      "CACGGGGCATGTGTCCAGGCTGAGCCCGCTGAGCGTCGACACAGTCGCTGTTGGCCTGGTGTCCAGCGTGGTTGTCTATCCCGTCTACCTGGCCATCCTTTTTCTCTTCCGGATGTCCCGGAGCAAG\n",
      "Largo:  127\n",
      "GTGGCTGGGAGCCCGAGCCCCACACCTGCCGGGCAGCAGGTGCTGGACATCGACAGCTGCCTGGACTCGTCCGTGCTGGACAGCTCCTTCCTCACGTTCTCAGGCCTCCACGCTGAG\n",
      "Largo:  117\n",
      "CAGGCCTTTGTTGGACAGATGAAGAGTGACTTGTTTCTGGATGATTCTAAGAG\n",
      "Largo:  53\n",
      "TCTGGTGTGCTGGCCCTCCGGCGAGGGAACGCTCAGTTGGCCGGACCTGCTCAGTGACCCGTCCATTGTGGGTAGCAATCTGCGGCAGCTGGCACGGGGCCAGGCGGGCCATGGGCTGGGCCCAGAGGAGGACGGCTTCTCCCTGGCCAGCCCCTACTCGCCTGCCAAATCCTTCTCAGCATCAG\n",
      "Largo:  185\n",
      "ATGAAGACCTGATCCAGCAGGTCCTTGCCGAGGGGGTCAGCAGCCCAGCCCCTACCCAAGACACCCACATGGAAACGGACCTGCTCAGCAGCCT\n",
      "Largo:  94\n",
      "GTCCAGCACTCCTGGGGAGAAGACAGAGACGCTGGCGCTGCAGAGGCTGGGGGAGCTGGGGCCACCCAGCCCAGGCCTGAACTGGGAACAGCCCCAGGCAGCGAGGCTGTCCAGGACAG\n",
      "Largo:  119\n",
      "GACTGGTGGAGGGTCTGCGGAAGCGCCTGCTGCCGGCCTGGTGTGCCTCCCTGGCCCACGGGCTCAGCCTGCTCCTGGTGGCTGTGGCTGTGGCTGTCTCAGGGTGGGTGGGTGCGAGCTTCCCCCCGGGCGTGAGTGTTGCGTGGCTCCTGTCCAGCAGCGCCAGCTTCCTGGCCTCATTCCTCGGCTGGGAGCCACTGAAG\n",
      "Largo:  203\n",
      "GTCTTGCTGGAAGCCCTGTACTTCTCACTGGTGGCCAAGCGGCTGCACCCGGATGAAGATGACACCCTGGTAGAGAGCCCGGCTGTGACGCCTGTGAGCGCACGTGTGCCCCGCGTACGGCCACCCCACGGCTTTGCACTCTTCCTGGCCAAGGAAGAAGCCCGCAAGGTCAAGAGGCTACATGGCATGCTGCGG\n",
      "Largo:  195\n",
      "AGCCTCCTGGTGTACATGCTTTTTCTGCTGGTGACCCTGCTGGCCAGCTATGGGGATGCCTCATGCCATGGGCACGCCTACCGTCTGCAAAGCGCCATCAAGCAGGAGCTGCACAGCCGGGCCTTCCTGGCCATCACGCG\n",
      "Largo:  140\n",
      "GTCTGAGGAGCTCTGGCCATGGATGGCCCACGTGCTGCTGCCCTACGTCCACGGGAACCAGTCCAGCCCAGAGCTGGGGCCCCCACGGCTGCGGCAGGTGCGGCTGCAGGAAG\n",
      "Largo:  113\n",
      "CACTCTACCCAGACCCTCCCGGCCCCAGGGTCCACACGTGCTCGGCCGCAGGAGGCTTCAGCACCAGCGATTACGACGTTGGCTGGGAGAGTCCTCACAATGGCTCGGGGACGTGGGCCTATTCAGCGCCGGATCTGCTGGG\n",
      "Largo:  142\n",
      "GGCATGGTCCTGGGGCTCCTGTGCCGTGTATGACAGCGGGGGCTACGTGCAGGAGCTGGGCCTGAGCCTGGAGGAGAGCCGCGACCGGCTGCGCTTCCTGCAGCTGCACAACTGGCTGGACAACAG\n",
      "Largo:  126\n",
      "GAGCCGCGCTGTGTTCCTGGAGCTCACGCGCTACAGCCCGGCCGTGGGGCTGCACGCCGCCGTCACGCTGCGCCTCGAGTTCCCGGCGGCCGGCCGCGCCCTGGCCGCCCTCAGCGTCCGCCCCTTTGCGCTGCGCCGCCTCAGCGCGGGCCTCTCGCTGCCTCTGCTCACCTCG\n",
      "Largo:  175\n",
      "GTGTGCCTGCTGCTGTTCGCCGTGCACTTCGCCGTGGCCGAGGCCCGTACTTGGCACAGGGAAGGGCGCTGGCGCGTGCTGCGGCTCGGAGCCTGGGCGCGGTGGCTGCTGGTGGCGCTGACGGCGGCCACGGCACTGGTACGCCTCGCCCAGCTGGGTGCCGCTGACCGCCAGTGGACCCGTTTCGTGCGCGGCCGCCCGCGCCGCTTCACTAGCTTCGACCAGGTGGCGCAGCTGAGCTCCGCAGCCCGTGGCCTGGCGGCCTCGCTGCTCTTCCTGCTTTTGGTCAAG\n",
      "Largo:  291\n",
      "GCTGCCCAGCAGCTACGCTTCGTGCGCCAGTGGTCCGTCTTTGGCAAGACATTATGCCGAGCTCTGCCAGAGCTCCTGGGGGTCACCTTGGGCCTGGTGGTGCTCGGGGTAGCCTACGCCCAGCTGGCCATCCTG\n",
      "Largo:  135\n",
      "CTCGTGTCTTCCTGTGTGGACTCCCTCTGGAGCGTGGCCCAGGCCCTGTTGGTGCTGTGCCCTGGGACTGGGCTCTCTACCCTGTGTCCTGCCGAGTCCTGGCACCTGTCACCCCTGCTGTGTGTGGGGCTCTGGGCACTGCGGCTGTGGGGCGCCCTACGGCTGGGGGCTGTTATTCTCCGCTGGCGCTACCACGCCTTGCGTGGAGAGCTGTACCGGCCGGCCTGGGAGCCCCAGGACTACGAGATGGTGGAGTTGTTCCTGCGCAGGCTGCGCCTCTGGATGGGCCTCAGCAAGGTCAAGGAG\n",
      "Largo:  306\n",
      "TTCCGCCACAAAGTCCGCTTTGAAGGGATGGAGCCGCTGCCCTCTCGCTCCTCCAGGGGCTCCAAGGTATCCCCGGATGTGCCCCCACCCAGCGCTGGCTCCGATGCCTCGCACCCCTCCACCTCCTCCAGCCAGCTGGATGGGCTGAGCGTGAGCCTGGGCCGGCTGGGGACAAGGTGTGAGCCTGAGCCCTCCCGCCTCCAAGCCGTGTTCGAGGCCCTGCTCACCCAGTTTGACCGACTCAACCAGGCCACAGAGGACGTCTACCAGCTGGAGCAGCAGCTGCACAGCCTGCAAGGCCGCAGGAGCAGCCGGGCGCCCGCCGGATCTTCCCGTGGCCCATCCCCGGGCCTGCGGCCAGCACTGCCCAGCCGCCTTGCCCGGGCCAGTCGGGGTGTGGACCTGGCCACTGGCCCCAGCAGGACACCCCTTCGGGCCAAGAACAAGGTCCACCCCAGCAGCACTTAGTCCTCCTTCCTGGCGGGGGTGGGCCGTGGAGTCGGAGTGGACACCGCTCAGTATTACTTTCTGCCGCTGTCAAGGCCGAGGGCCAGGCAGAATGGCTGCACGTAGGTTCCCCAGAGAGCAGGCAGGGGCATCTGTCTGTCTGTGGGCTTCAGCACTTTAAAGAGGCTGTGTGGCCAACCAGGACCCAGGGTCCCCTCCCCAGCTCCCTTGGGAAGGACACAGCAGTATTGGACGGTTTCTAGCCTCTGAGATGCTAATTTATTTCCCCGAGTCCTCAGGTACAGCGGGCTGTGCCCGGCCCCACCCCCTGGGCAGATGTCCCCCACTGCTAAGGCTGCTGGCTTCAGGGAGGGTTAGCCTGCACCGCCGCCACCCTGCCCCTAAGTTATTACCTCTCCAGTTCCTACCGTACTCCCTGCACCGTCTCACTGTGTGTCTCGTGTCAGTAATTTATATGGTGTTAAAATGTGTATATTTTTGTATGTCACTATTTTCACTAGGGCTGAGGGGCCTGCGCCCAGAGCTGGCCTCCCCCAACACCTGCTGCGCTTGGTAGGTGTGGTGGCGTTATGGCAGCCCGGCTGCTGCTTGGATGCGAGCTTGGCCTTGGGCCGGTGCTGGGGGCACAGCTGTCTGCCAGGCACTCTCATCACCCCAGAGGCCTTGTCATCCTCCCTTGCCCCAGGCCAGGTAGCAAGAGAGCAGCGCCCAGGCCTGCTGGCATCAGGTCTGGGCAAGTAGCAGGACTAGGCATGTCAGAGGACCCCAGGGTGGTTAGAGGAAAAGACTCCTCCTGGGGGCTGGCTCCCAGGGTGGAGGAAGGTGACTGTGTGTGTGTGTGTGTGCGCGCGCGCACGCGCGAGTGTGCTGTATGGCCCAGGCAGCCTCAAGGCCCTCGGAGCTGGCTGTGCCTGCTTCTGTGTACCACTTCTGTGGGCATGGCCGCTTCTAGAGCCTCGACACCCCCCCAACCCCCGCACCAAGCAGACAAAGTCAATAAAAGAGCTGTCTGACTGCAA\n",
      "Largo:  1487\n"
     ]
    }
   ],
   "source": [
    "for f in record.features:\n",
    "    if f.type == 'exon':\n",
    "        feature_seq = record.seq[f.location.start : f.location.end]\n",
    "        print(feature_seq)\n",
    "        print('Largo: ', len(feature_seq))"
   ]
  },
  {
   "cell_type": "code",
   "execution_count": 6,
   "id": "bc6d214c",
   "metadata": {},
   "outputs": [
    {
     "data": {
      "text/plain": [
       "ExactPosition(7274)"
      ]
     },
     "execution_count": 6,
     "metadata": {},
     "output_type": "execute_result"
    }
   ],
   "source": [
    "record.features[100].location.start"
   ]
  },
  {
   "cell_type": "code",
   "execution_count": 7,
   "id": "ae0600bb",
   "metadata": {},
   "outputs": [
    {
     "data": {
      "text/plain": [
       "ExactPosition(7418)"
      ]
     },
     "execution_count": 7,
     "metadata": {},
     "output_type": "execute_result"
    }
   ],
   "source": [
    "record.features[100].location.end"
   ]
  },
  {
   "cell_type": "code",
   "execution_count": 8,
   "id": "42b5b0a2",
   "metadata": {},
   "outputs": [
    {
     "data": {
      "text/plain": [
       "Seq('GTGCTGATCCGGAGTGGCCGGGTGCCCATTGTGTCCTTGGAGTGTGTGTCCTGC...GGG')"
      ]
     },
     "execution_count": 8,
     "metadata": {},
     "output_type": "execute_result"
    }
   ],
   "source": [
    "record.seq[record.features[100].location.start:record.features[100].location.end]"
   ]
  },
  {
   "cell_type": "code",
   "execution_count": 9,
   "id": "96049ee0",
   "metadata": {},
   "outputs": [
    {
     "data": {
      "text/plain": [
       "Seq('CCCTCGCTTGGAGCCGCTGCTGCAATTGAGGCAGCGGCCCTCCAAGTACACGTA...CAC')"
      ]
     },
     "execution_count": 9,
     "metadata": {},
     "output_type": "execute_result"
    }
   ],
   "source": [
    "record.seq[record.features[100].location.start:record.features[100].location.end].reverse_complement()"
   ]
  },
  {
   "cell_type": "code",
   "execution_count": 10,
   "id": "e91af153",
   "metadata": {},
   "outputs": [
    {
     "data": {
      "text/plain": [
       "0.6319444444444444"
      ]
     },
     "execution_count": 10,
     "metadata": {},
     "output_type": "execute_result"
    }
   ],
   "source": [
    "gc_fraction(record.seq[record.features[100].location.start:record.features[100].location.end].reverse_complement())"
   ]
  },
  {
   "cell_type": "code",
   "execution_count": 11,
   "id": "2ced500d",
   "metadata": {},
   "outputs": [
    {
     "data": {
      "text/plain": [
       "Seq('VLIRSGRVPIVSLECVSCKAQAVYEVSRSSYVYLEGRCLNCSSGSKRG')"
      ]
     },
     "execution_count": 11,
     "metadata": {},
     "output_type": "execute_result"
    }
   ],
   "source": [
    "record.seq[record.features[100].location.start:record.features[100].location.end].translate()"
   ]
  },
  {
   "cell_type": "code",
   "execution_count": 12,
   "id": "3c2814ea",
   "metadata": {},
   "outputs": [
    {
     "data": {
      "text/plain": [
       "81.64595762753346"
      ]
     },
     "execution_count": 12,
     "metadata": {},
     "output_type": "execute_result"
    }
   ],
   "source": [
    "MeltingTemp.Tm_GC(record.seq[record.features[100].location.start:record.features[100].location.end].reverse_complement())"
   ]
  }
 ],
 "metadata": {
  "kernelspec": {
   "display_name": "Python 3 (ipykernel)",
   "language": "python",
   "name": "python3"
  },
  "language_info": {
   "codemirror_mode": {
    "name": "ipython",
    "version": 3
   },
   "file_extension": ".py",
   "mimetype": "text/x-python",
   "name": "python",
   "nbconvert_exporter": "python",
   "pygments_lexer": "ipython3",
   "version": "3.10.6"
  }
 },
 "nbformat": 4,
 "nbformat_minor": 5
}
